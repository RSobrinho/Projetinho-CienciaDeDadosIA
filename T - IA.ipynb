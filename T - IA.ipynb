{
 "cells": [
  {
   "cell_type": "markdown",
   "metadata": {},
   "source": [
    "### Informação do Dataset\n",
    "Age, Systolic Blood Pressure as SystolicBP, Diastolic BP as DiastolicBP, Blood Sugar as BS, Body Temperature as BodyTemp, HeartRate and RiskLevel. All these are the responsible and significant risk factors for maternal mortality, that is one of the main concern of SDG of UN.\n",
    "\n",
    "### Informação dos Atributos\n",
    "- Age: Any ages in years when a women during pregnant.\n",
    "- SystolicBP: Upper value of Blood Pressure in mmHg, another significant attribute during pregnancy.\n",
    "- DiastolicBP: Lower value of Blood Pressure in mmHg, another significant attribute during pregnancy.\n",
    "- BS: Blood glucose levels is in terms of a molar concentration, mmol/L.\n",
    "- HeartRate: A normal resting heart rate in beats per minute.\n",
    "- Risk Level: Predicted Risk Intensity Level during pregnancy considering the previous attribute."
   ]
  },
  {
   "cell_type": "markdown",
   "metadata": {},
   "source": [
    "---"
   ]
  },
  {
   "cell_type": "markdown",
   "metadata": {},
   "source": [
    "## Base de dados\n",
    "\n",
    ">Acessando a base de dados do problema definido no exercício (exemplo para um [dataset](https://archive.ics.uci.edu/ml/machine-learning-databases/00639/)) "
   ]
  },
  {
   "cell_type": "code",
   "execution_count": 12,
   "metadata": {},
   "outputs": [
    {
     "name": "stdout",
     "output_type": "stream",
     "text": [
      "Tamanho do dataset: (1014, 7)\n",
      "Classes: ['high risk' 'low risk' 'mid risk']\n",
      "Classe high risk | QTD: 7\n",
      "Classe low risk | QTD: 7\n",
      "Classe mid risk | QTD: 7\n",
      "{'high risk': 272, 'low risk': 406, 'mid risk': 336}\n"
     ]
    }
   ],
   "source": [
    "import pandas as pd\n",
    "import numpy as np\n",
    "\n",
    "# nome dos atributos do dataset\n",
    "cols = ['age', 'systolicBP', 'diastolicBP', 'BS', 'bodyTemp', 'heartRate', 'riskLevel[CLASS]']\n",
    "\n",
    "# abrindo o arquivo csv, onde names = colunas da tabela, EM ORDEM\n",
    "df = pd.read_csv('maternalHealthRiskDS.csv', names = cols) \n",
    "\n",
    "# converte um arquivo nada a ve num array dos atributos do proprio numpy\n",
    "data = df.to_numpy()\n",
    "\n",
    "# serve para printar o tamanho do dataset (\"linhas da tabela\") e as colunas (atributos)\n",
    "print('Tamanho do dataset:', data.shape)\n",
    "\n",
    "# pega todas as linhas da tabela, mas somente no ultimo atributo, que são exatamente as classes\n",
    "allClasses = data[:, -1]\n",
    "\n",
    "# fez uma varredura em todas as classes (linhas) na tabela, e pegou somente os tipos\n",
    "classes = np.unique(allClasses)\n",
    "print('Classes:', classes)\n",
    "\n",
    "# cria um dicionario (tipo um objeto) e vai guardar o length de cada tipo de classe, e a propria classe\n",
    "qtdClasses = {} \n",
    "\n",
    "for classe in classes:\n",
    "\n",
    "  # ou seja, o total de classes daquele tipo especifico, fazendo uma varredura no total de classes que existem\n",
    "  # a coluna é qualquer coisa pq n tem necessidade (acho)\n",
    "  totalClassesDoTipo = data[allClasses == classe, :] \n",
    "\n",
    "  # OBS: O shape na posicao 0 sao as linhas, e o shape na posicao 1 sao as colunas daquela linha que tem high risk p exemplo\n",
    "  print(f'Classe {classe} | QTD: {totalClassesDoTipo.shape[1]}')\n",
    "\n",
    "  # ao mesmo tempo que eu referencio o \"\"obj\"\" 'high risk' p exemplo, eu crio ele, e ja adiciono os dados a esse atb, q foda\n",
    "  qtdClasses[classe] = totalClassesDoTipo.shape[0]\n",
    "\n",
    "print(qtdClasses)\n"
   ]
  },
  {
   "cell_type": "markdown",
   "metadata": {},
   "source": []
  },
  {
   "cell_type": "code",
   "execution_count": null,
   "metadata": {},
   "outputs": [],
   "source": [
    " "
   ]
  }
 ],
 "metadata": {
  "kernelspec": {
   "display_name": "Python 3.9.12 64-bit",
   "language": "python",
   "name": "python3"
  },
  "language_info": {
   "codemirror_mode": {
    "name": "ipython",
    "version": 3
   },
   "file_extension": ".py",
   "mimetype": "text/x-python",
   "name": "python",
   "nbconvert_exporter": "python",
   "pygments_lexer": "ipython3",
   "version": "3.9.12"
  },
  "orig_nbformat": 4,
  "vscode": {
   "interpreter": {
    "hash": "d31cbb7681334587f091fae2b0753f95f871419be38601f2c75a9d4b7380310c"
   }
  }
 },
 "nbformat": 4,
 "nbformat_minor": 2
}
